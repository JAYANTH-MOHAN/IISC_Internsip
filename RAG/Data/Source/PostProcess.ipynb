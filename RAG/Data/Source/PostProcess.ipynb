{
 "cells": [
  {
   "cell_type": "code",
   "execution_count": 8,
   "id": "08c59502-487f-4fb0-a0c7-5aceb07f5eb1",
   "metadata": {
    "tags": []
   },
   "outputs": [],
   "source": [
    "import os\n",
    "a=os.listdir()"
   ]
  },
  {
   "cell_type": "code",
   "execution_count": 15,
   "id": "c2c6113a-7432-4d25-87a0-7a92e338ed3b",
   "metadata": {
    "tags": []
   },
   "outputs": [
    {
     "name": "stdout",
     "output_type": "stream",
     "text": [
      "Concatenation complete. Data saved to 'concatenated_articles_data.csv'\n"
     ]
    }
   ],
   "source": [
    "import pandas as pd\n",
    "\n",
    "# List of CSV files to concatenate\n",
    "files_to_concatenate = [\n",
    "    'articles_data.csv',\n",
    "    'articles_data10.csv',\n",
    "    'articles_data11.csv',\n",
    "    'articles_data12.csv',\n",
    "    'articles_data2.csv',\n",
    "    'articles_data3.csv',\n",
    "    'articles_data4.csv',\n",
    "    'articles_data5.csv',\n",
    "    'articles_data6.csv',\n",
    "    'articles_data8.csv',\n",
    "    'articles_data_10_2_1.csv',\n",
    "    'articles_data_10_2_2.csv',\n",
    "    'articles_data_10_2_3.csv',\n",
    "    'articles_data_10_2_4.csv',\n",
    "    'articles_data_10_2_5.csv',\n",
    "    'articles_data_14_2_1.csv',\n",
    "    'articles_data_14_2_2.csv',\n",
    "    'articles_data_14_2_3.csv',\n",
    "]\n",
    "\n",
    "# Initialize an empty DataFrame to store the concatenated data\n",
    "concatenated_data = pd.DataFrame()\n",
    "\n",
    "# Loop through each specified CSV file and concatenate the data\n",
    "for file in files_to_concatenate:\n",
    "    df = pd.read_csv(file)\n",
    "    concatenated_data = pd.concat([concatenated_data, df], ignore_index=True)\n",
    "\n",
    "# Save the concatenated data to a new CSV file\n",
    "concatenated_data.to_csv('concatenated_articles_data.csv', index=False)\n",
    "\n",
    "print(\"Concatenation complete. Data saved to 'concatenated_articles_data.csv'\")\n"
   ]
  },
  {
   "cell_type": "code",
   "execution_count": 21,
   "id": "d6060a4b-401e-40ae-9f1b-cf99c5a07d5b",
   "metadata": {
    "tags": []
   },
   "outputs": [
    {
     "name": "stdout",
     "output_type": "stream",
     "text": [
      "Concatenation complete. Data saved to 'concatenated_data_without_headers.csv'\n"
     ]
    }
   ],
   "source": [
    "import pandas as pd\n",
    "\n",
    "# List of 'news' CSV files to concatenate\n",
    "csv_files = [\n",
    "    'news.csv',\n",
    "    'news2.csv',\n",
    "    'news_10_2_1.csv',\n",
    "    'news_14_2_1.csv',\n",
    "    'news_14_2_2.csv',\n",
    "    'news_14_2_3.csv',\n",
    "    'news_9_2.csv',\n",
    "    'news_9_2_1.csv',\n",
    "    'news_9_2_2.csv',\n",
    "    'news_war.csv',\n",
    "]\n",
    "\n",
    "# Initialize an empty DataFrame to store the concatenated data\n",
    "concatenated_data = pd.DataFrame()\n",
    "\n",
    "# Loop through each CSV file, read it without headers, and concatenate the data\n",
    "for file in csv_files:\n",
    "    df = pd.read_csv(file, header=None)  # Read without headers\n",
    "    concatenated_data = pd.concat([concatenated_data, df], ignore_index=True)\n",
    "\n",
    "# Save the concatenated data to a new CSV file\n",
    "concatenated_data.to_csv('concatenated_data_without_headers.csv', index=False, header=False)\n",
    "\n",
    "print(\"Concatenation complete. Data saved to 'concatenated_data_without_headers.csv'\")"
   ]
  },
  {
   "cell_type": "code",
   "execution_count": null,
   "id": "83a7b54e-6ab1-4da3-924d-e80ef8f84865",
   "metadata": {},
   "outputs": [],
   "source": []
  }
 ],
 "metadata": {
  "kernelspec": {
   "display_name": "Python 3 (ipykernel)",
   "language": "python",
   "name": "python3"
  },
  "language_info": {
   "codemirror_mode": {
    "name": "ipython",
    "version": 3
   },
   "file_extension": ".py",
   "mimetype": "text/x-python",
   "name": "python",
   "nbconvert_exporter": "python",
   "pygments_lexer": "ipython3",
   "version": "3.11.5"
  }
 },
 "nbformat": 4,
 "nbformat_minor": 5
}
